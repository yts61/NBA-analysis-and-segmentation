{
 "cells": [
  {
   "cell_type": "code",
   "execution_count": 1,
   "metadata": {},
   "outputs": [
    {
     "name": "stderr",
     "output_type": "stream",
     "text": [
      "/Users/noahgift/.socialpowernba/lib/python3.6/site-packages/statsmodels/compat/pandas.py:56: FutureWarning: The pandas.core.datetools module is deprecated and will be removed in a future version. Please use the pandas.tseries module instead.\n",
      "  from pandas.core import datetools\n"
     ]
    }
   ],
   "source": [
    "import pandas as pd\n",
    "import statsmodels.api as sm\n",
    "import statsmodels.formula.api as smf\n",
    "import matplotlib.pyplot as plt\n",
    "import seaborn as sns\n",
    "color = sns.color_palette()\n",
    "%matplotlib inline"
   ]
  },
  {
   "cell_type": "markdown",
   "metadata": {},
   "source": [
    "### 1.  How do we print matplotlib it out to a new window, not inline\n",
    "### 2.  How to interact with plots (who plotly)"
   ]
  },
  {
   "cell_type": "code",
   "execution_count": 2,
   "metadata": {},
   "outputs": [
    {
     "data": {
      "text/html": [
       "<div>\n",
       "<style>\n",
       "    .dataframe thead tr:only-child th {\n",
       "        text-align: right;\n",
       "    }\n",
       "\n",
       "    .dataframe thead th {\n",
       "        text-align: left;\n",
       "    }\n",
       "\n",
       "    .dataframe tbody tr th {\n",
       "        vertical-align: top;\n",
       "    }\n",
       "</style>\n",
       "<table border=\"1\" class=\"dataframe\">\n",
       "  <thead>\n",
       "    <tr style=\"text-align: right;\">\n",
       "      <th></th>\n",
       "      <th>TEAM</th>\n",
       "      <th>GMS</th>\n",
       "      <th>PCT</th>\n",
       "      <th>TOTAL_MILLIONS</th>\n",
       "      <th>AVG_MILLIONS</th>\n",
       "    </tr>\n",
       "  </thead>\n",
       "  <tbody>\n",
       "    <tr>\n",
       "      <th>0</th>\n",
       "      <td>Chicago Bulls</td>\n",
       "      <td>41</td>\n",
       "      <td>104</td>\n",
       "      <td>0.888882</td>\n",
       "      <td>0.021680</td>\n",
       "    </tr>\n",
       "    <tr>\n",
       "      <th>1</th>\n",
       "      <td>Dallas Mavericks</td>\n",
       "      <td>41</td>\n",
       "      <td>103</td>\n",
       "      <td>0.811366</td>\n",
       "      <td>0.019789</td>\n",
       "    </tr>\n",
       "    <tr>\n",
       "      <th>2</th>\n",
       "      <td>Sacramento Kings</td>\n",
       "      <td>41</td>\n",
       "      <td>101</td>\n",
       "      <td>0.721928</td>\n",
       "      <td>0.017608</td>\n",
       "    </tr>\n",
       "    <tr>\n",
       "      <th>3</th>\n",
       "      <td>Miami Heat</td>\n",
       "      <td>41</td>\n",
       "      <td>100</td>\n",
       "      <td>0.805400</td>\n",
       "      <td>0.019643</td>\n",
       "    </tr>\n",
       "    <tr>\n",
       "      <th>4</th>\n",
       "      <td>Toronto Raptors</td>\n",
       "      <td>41</td>\n",
       "      <td>100</td>\n",
       "      <td>0.813050</td>\n",
       "      <td>0.019830</td>\n",
       "    </tr>\n",
       "  </tbody>\n",
       "</table>\n",
       "</div>"
      ],
      "text/plain": [
       "               TEAM  GMS  PCT  TOTAL_MILLIONS  AVG_MILLIONS\n",
       "0     Chicago Bulls   41  104        0.888882      0.021680\n",
       "1  Dallas Mavericks   41  103        0.811366      0.019789\n",
       "2  Sacramento Kings   41  101        0.721928      0.017608\n",
       "3        Miami Heat   41  100        0.805400      0.019643\n",
       "4   Toronto Raptors   41  100        0.813050      0.019830"
      ]
     },
     "execution_count": 2,
     "metadata": {},
     "output_type": "execute_result"
    }
   ],
   "source": [
    "attendance_df = pd.read_csv(\"../data/nba_2017_attendance.csv\");attendance_df.head()"
   ]
  },
  {
   "cell_type": "markdown",
   "metadata": {},
   "source": [
    "### You can look at as few or as many rows as you want"
   ]
  },
  {
   "cell_type": "code",
   "execution_count": 4,
   "metadata": {},
   "outputs": [
    {
     "data": {
      "text/html": [
       "<div>\n",
       "<style>\n",
       "    .dataframe thead tr:only-child th {\n",
       "        text-align: right;\n",
       "    }\n",
       "\n",
       "    .dataframe thead th {\n",
       "        text-align: left;\n",
       "    }\n",
       "\n",
       "    .dataframe tbody tr th {\n",
       "        vertical-align: top;\n",
       "    }\n",
       "</style>\n",
       "<table border=\"1\" class=\"dataframe\">\n",
       "  <thead>\n",
       "    <tr style=\"text-align: right;\">\n",
       "      <th></th>\n",
       "      <th>TEAM</th>\n",
       "      <th>GMS</th>\n",
       "      <th>PCT</th>\n",
       "      <th>TOTAL_MILLIONS</th>\n",
       "      <th>AVG_MILLIONS</th>\n",
       "    </tr>\n",
       "  </thead>\n",
       "  <tbody>\n",
       "    <tr>\n",
       "      <th>0</th>\n",
       "      <td>Chicago Bulls</td>\n",
       "      <td>41</td>\n",
       "      <td>104</td>\n",
       "      <td>0.888882</td>\n",
       "      <td>0.021680</td>\n",
       "    </tr>\n",
       "    <tr>\n",
       "      <th>1</th>\n",
       "      <td>Dallas Mavericks</td>\n",
       "      <td>41</td>\n",
       "      <td>103</td>\n",
       "      <td>0.811366</td>\n",
       "      <td>0.019789</td>\n",
       "    </tr>\n",
       "  </tbody>\n",
       "</table>\n",
       "</div>"
      ],
      "text/plain": [
       "               TEAM  GMS  PCT  TOTAL_MILLIONS  AVG_MILLIONS\n",
       "0     Chicago Bulls   41  104        0.888882      0.021680\n",
       "1  Dallas Mavericks   41  103        0.811366      0.019789"
      ]
     },
     "execution_count": 4,
     "metadata": {},
     "output_type": "execute_result"
    }
   ],
   "source": [
    "attendance_df.head(2)"
   ]
  },
  {
   "cell_type": "code",
   "execution_count": 5,
   "metadata": {},
   "outputs": [
    {
     "data": {
      "text/html": [
       "<div>\n",
       "<style>\n",
       "    .dataframe thead tr:only-child th {\n",
       "        text-align: right;\n",
       "    }\n",
       "\n",
       "    .dataframe thead th {\n",
       "        text-align: left;\n",
       "    }\n",
       "\n",
       "    .dataframe tbody tr th {\n",
       "        vertical-align: top;\n",
       "    }\n",
       "</style>\n",
       "<table border=\"1\" class=\"dataframe\">\n",
       "  <thead>\n",
       "    <tr style=\"text-align: right;\">\n",
       "      <th></th>\n",
       "      <th>NAME</th>\n",
       "      <th>TEAM</th>\n",
       "      <th>SALARY_MILLIONS</th>\n",
       "      <th>ENDORSEMENT_MILLIONS</th>\n",
       "    </tr>\n",
       "  </thead>\n",
       "  <tbody>\n",
       "    <tr>\n",
       "      <th>0</th>\n",
       "      <td>LeBron James</td>\n",
       "      <td>Cleveland Cavaliers</td>\n",
       "      <td>31</td>\n",
       "      <td>55</td>\n",
       "    </tr>\n",
       "    <tr>\n",
       "      <th>1</th>\n",
       "      <td>Kevin Durant</td>\n",
       "      <td>Golden State Warriors</td>\n",
       "      <td>27</td>\n",
       "      <td>36</td>\n",
       "    </tr>\n",
       "    <tr>\n",
       "      <th>2</th>\n",
       "      <td>Stephen Curry</td>\n",
       "      <td>Golden State Warriors</td>\n",
       "      <td>12</td>\n",
       "      <td>35</td>\n",
       "    </tr>\n",
       "    <tr>\n",
       "      <th>3</th>\n",
       "      <td>James Harden</td>\n",
       "      <td>Houston Rockets</td>\n",
       "      <td>27</td>\n",
       "      <td>20</td>\n",
       "    </tr>\n",
       "    <tr>\n",
       "      <th>4</th>\n",
       "      <td>Russell Westbrook</td>\n",
       "      <td>Oklahoma City Thunder</td>\n",
       "      <td>27</td>\n",
       "      <td>15</td>\n",
       "    </tr>\n",
       "  </tbody>\n",
       "</table>\n",
       "</div>"
      ],
      "text/plain": [
       "                NAME                   TEAM  SALARY_MILLIONS  \\\n",
       "0       LeBron James    Cleveland Cavaliers               31   \n",
       "1       Kevin Durant  Golden State Warriors               27   \n",
       "2      Stephen Curry  Golden State Warriors               12   \n",
       "3       James Harden        Houston Rockets               27   \n",
       "4  Russell Westbrook  Oklahoma City Thunder               27   \n",
       "\n",
       "   ENDORSEMENT_MILLIONS  \n",
       "0                    55  \n",
       "1                    36  \n",
       "2                    35  \n",
       "3                    20  \n",
       "4                    15  "
      ]
     },
     "execution_count": 5,
     "metadata": {},
     "output_type": "execute_result"
    }
   ],
   "source": [
    "endorsement_df = pd.read_csv(\"../data/nba_2017_endorsements.csv\");endorsement_df.head()"
   ]
  },
  {
   "cell_type": "code",
   "execution_count": 6,
   "metadata": {},
   "outputs": [
    {
     "data": {
      "text/html": [
       "<div>\n",
       "<style>\n",
       "    .dataframe thead tr:only-child th {\n",
       "        text-align: right;\n",
       "    }\n",
       "\n",
       "    .dataframe thead th {\n",
       "        text-align: left;\n",
       "    }\n",
       "\n",
       "    .dataframe tbody tr th {\n",
       "        vertical-align: top;\n",
       "    }\n",
       "</style>\n",
       "<table border=\"1\" class=\"dataframe\">\n",
       "  <thead>\n",
       "    <tr style=\"text-align: right;\">\n",
       "      <th></th>\n",
       "      <th>TEAM</th>\n",
       "      <th>VALUE_MILLIONS</th>\n",
       "    </tr>\n",
       "  </thead>\n",
       "  <tbody>\n",
       "    <tr>\n",
       "      <th>0</th>\n",
       "      <td>New York Knicks</td>\n",
       "      <td>3300.0</td>\n",
       "    </tr>\n",
       "    <tr>\n",
       "      <th>1</th>\n",
       "      <td>Los Angeles Lakers</td>\n",
       "      <td>3000.0</td>\n",
       "    </tr>\n",
       "    <tr>\n",
       "      <th>2</th>\n",
       "      <td>Golden State Warriors</td>\n",
       "      <td>2600.0</td>\n",
       "    </tr>\n",
       "    <tr>\n",
       "      <th>3</th>\n",
       "      <td>Chicago Bulls</td>\n",
       "      <td>2500.0</td>\n",
       "    </tr>\n",
       "    <tr>\n",
       "      <th>4</th>\n",
       "      <td>Boston Celtics</td>\n",
       "      <td>2200.0</td>\n",
       "    </tr>\n",
       "  </tbody>\n",
       "</table>\n",
       "</div>"
      ],
      "text/plain": [
       "                    TEAM  VALUE_MILLIONS\n",
       "0        New York Knicks          3300.0\n",
       "1     Los Angeles Lakers          3000.0\n",
       "2  Golden State Warriors          2600.0\n",
       "3          Chicago Bulls          2500.0\n",
       "4         Boston Celtics          2200.0"
      ]
     },
     "execution_count": 6,
     "metadata": {},
     "output_type": "execute_result"
    }
   ],
   "source": [
    "valuations_df = pd.read_csv(\"../data/nba_2017_team_valuations.csv\");valuations_df.head()"
   ]
  },
  {
   "cell_type": "code",
   "execution_count": 7,
   "metadata": {},
   "outputs": [
    {
     "data": {
      "text/html": [
       "<div>\n",
       "<style>\n",
       "    .dataframe thead tr:only-child th {\n",
       "        text-align: right;\n",
       "    }\n",
       "\n",
       "    .dataframe thead th {\n",
       "        text-align: left;\n",
       "    }\n",
       "\n",
       "    .dataframe tbody tr th {\n",
       "        vertical-align: top;\n",
       "    }\n",
       "</style>\n",
       "<table border=\"1\" class=\"dataframe\">\n",
       "  <thead>\n",
       "    <tr style=\"text-align: right;\">\n",
       "      <th></th>\n",
       "      <th>NAME</th>\n",
       "      <th>POSITION</th>\n",
       "      <th>TEAM</th>\n",
       "      <th>SALARY</th>\n",
       "    </tr>\n",
       "  </thead>\n",
       "  <tbody>\n",
       "    <tr>\n",
       "      <th>0</th>\n",
       "      <td>LeBron James</td>\n",
       "      <td>SF</td>\n",
       "      <td>Cleveland Cavaliers</td>\n",
       "      <td>30963450.0</td>\n",
       "    </tr>\n",
       "    <tr>\n",
       "      <th>1</th>\n",
       "      <td>Mike Conley</td>\n",
       "      <td>PG</td>\n",
       "      <td>Memphis Grizzlies</td>\n",
       "      <td>26540100.0</td>\n",
       "    </tr>\n",
       "    <tr>\n",
       "      <th>2</th>\n",
       "      <td>Al Horford</td>\n",
       "      <td>C</td>\n",
       "      <td>Boston Celtics</td>\n",
       "      <td>26540100.0</td>\n",
       "    </tr>\n",
       "    <tr>\n",
       "      <th>3</th>\n",
       "      <td>Dirk Nowitzki</td>\n",
       "      <td>PF</td>\n",
       "      <td>Dallas Mavericks</td>\n",
       "      <td>25000000.0</td>\n",
       "    </tr>\n",
       "    <tr>\n",
       "      <th>4</th>\n",
       "      <td>Carmelo Anthony</td>\n",
       "      <td>SF</td>\n",
       "      <td>New York Knicks</td>\n",
       "      <td>24559380.0</td>\n",
       "    </tr>\n",
       "  </tbody>\n",
       "</table>\n",
       "</div>"
      ],
      "text/plain": [
       "              NAME POSITION                 TEAM      SALARY\n",
       "0     LeBron James       SF  Cleveland Cavaliers  30963450.0\n",
       "1      Mike Conley       PG    Memphis Grizzlies  26540100.0\n",
       "2       Al Horford        C       Boston Celtics  26540100.0\n",
       "3    Dirk Nowitzki       PF     Dallas Mavericks  25000000.0\n",
       "4  Carmelo Anthony       SF      New York Knicks  24559380.0"
      ]
     },
     "execution_count": 7,
     "metadata": {},
     "output_type": "execute_result"
    }
   ],
   "source": [
    "salary_df = pd.read_csv(\"../data/nba_2017_salary.csv\");salary_df.head()"
   ]
  },
  {
   "cell_type": "code",
   "execution_count": 8,
   "metadata": {},
   "outputs": [
    {
     "data": {
      "text/html": [
       "<div>\n",
       "<style>\n",
       "    .dataframe thead tr:only-child th {\n",
       "        text-align: right;\n",
       "    }\n",
       "\n",
       "    .dataframe thead th {\n",
       "        text-align: left;\n",
       "    }\n",
       "\n",
       "    .dataframe tbody tr th {\n",
       "        vertical-align: top;\n",
       "    }\n",
       "</style>\n",
       "<table border=\"1\" class=\"dataframe\">\n",
       "  <thead>\n",
       "    <tr style=\"text-align: right;\">\n",
       "      <th></th>\n",
       "      <th>PLAYER</th>\n",
       "      <th>TEAM</th>\n",
       "      <th>AGE</th>\n",
       "      <th>GP</th>\n",
       "      <th>W</th>\n",
       "      <th>L</th>\n",
       "      <th>MIN</th>\n",
       "      <th>OFFRTG</th>\n",
       "      <th>DEFRTG</th>\n",
       "      <th>NETRTG</th>\n",
       "      <th>...</th>\n",
       "      <th>AST RATIO</th>\n",
       "      <th>OREB%</th>\n",
       "      <th>DREB%</th>\n",
       "      <th>REB%</th>\n",
       "      <th>TO RATIO</th>\n",
       "      <th>EFG%</th>\n",
       "      <th>TS%</th>\n",
       "      <th>USG%</th>\n",
       "      <th>PACE</th>\n",
       "      <th>PIE</th>\n",
       "    </tr>\n",
       "  </thead>\n",
       "  <tbody>\n",
       "    <tr>\n",
       "      <th>0</th>\n",
       "      <td>Russell Westbrook</td>\n",
       "      <td>OKC</td>\n",
       "      <td>28</td>\n",
       "      <td>81</td>\n",
       "      <td>46</td>\n",
       "      <td>35</td>\n",
       "      <td>34.6</td>\n",
       "      <td>107.9</td>\n",
       "      <td>104.6</td>\n",
       "      <td>3.3</td>\n",
       "      <td>...</td>\n",
       "      <td>23.4</td>\n",
       "      <td>5.3</td>\n",
       "      <td>27.9</td>\n",
       "      <td>16.7</td>\n",
       "      <td>12.2</td>\n",
       "      <td>47.6</td>\n",
       "      <td>55.4</td>\n",
       "      <td>40.8</td>\n",
       "      <td>102.31</td>\n",
       "      <td>23.0</td>\n",
       "    </tr>\n",
       "    <tr>\n",
       "      <th>1</th>\n",
       "      <td>Boban Marjanovic</td>\n",
       "      <td>DET</td>\n",
       "      <td>28</td>\n",
       "      <td>35</td>\n",
       "      <td>16</td>\n",
       "      <td>19</td>\n",
       "      <td>8.4</td>\n",
       "      <td>104.3</td>\n",
       "      <td>102.4</td>\n",
       "      <td>1.9</td>\n",
       "      <td>...</td>\n",
       "      <td>5.1</td>\n",
       "      <td>16.6</td>\n",
       "      <td>31.3</td>\n",
       "      <td>23.9</td>\n",
       "      <td>5.7</td>\n",
       "      <td>54.5</td>\n",
       "      <td>60.6</td>\n",
       "      <td>24.8</td>\n",
       "      <td>97.20</td>\n",
       "      <td>19.6</td>\n",
       "    </tr>\n",
       "    <tr>\n",
       "      <th>2</th>\n",
       "      <td>Demetrius Jackson</td>\n",
       "      <td>BOS</td>\n",
       "      <td>22</td>\n",
       "      <td>5</td>\n",
       "      <td>1</td>\n",
       "      <td>4</td>\n",
       "      <td>3.4</td>\n",
       "      <td>124.2</td>\n",
       "      <td>117.8</td>\n",
       "      <td>6.3</td>\n",
       "      <td>...</td>\n",
       "      <td>31.1</td>\n",
       "      <td>9.1</td>\n",
       "      <td>11.8</td>\n",
       "      <td>10.3</td>\n",
       "      <td>0.0</td>\n",
       "      <td>87.5</td>\n",
       "      <td>75.3</td>\n",
       "      <td>17.2</td>\n",
       "      <td>87.46</td>\n",
       "      <td>19.4</td>\n",
       "    </tr>\n",
       "    <tr>\n",
       "      <th>3</th>\n",
       "      <td>Anthony Davis</td>\n",
       "      <td>NOP</td>\n",
       "      <td>24</td>\n",
       "      <td>75</td>\n",
       "      <td>31</td>\n",
       "      <td>44</td>\n",
       "      <td>36.1</td>\n",
       "      <td>104.2</td>\n",
       "      <td>102.5</td>\n",
       "      <td>1.7</td>\n",
       "      <td>...</td>\n",
       "      <td>7.3</td>\n",
       "      <td>6.7</td>\n",
       "      <td>26.9</td>\n",
       "      <td>17.0</td>\n",
       "      <td>8.4</td>\n",
       "      <td>51.8</td>\n",
       "      <td>58.0</td>\n",
       "      <td>32.6</td>\n",
       "      <td>100.19</td>\n",
       "      <td>19.2</td>\n",
       "    </tr>\n",
       "    <tr>\n",
       "      <th>4</th>\n",
       "      <td>James Harden</td>\n",
       "      <td>HOU</td>\n",
       "      <td>27</td>\n",
       "      <td>81</td>\n",
       "      <td>54</td>\n",
       "      <td>27</td>\n",
       "      <td>36.4</td>\n",
       "      <td>113.6</td>\n",
       "      <td>107.3</td>\n",
       "      <td>6.3</td>\n",
       "      <td>...</td>\n",
       "      <td>27.6</td>\n",
       "      <td>3.5</td>\n",
       "      <td>21.2</td>\n",
       "      <td>12.3</td>\n",
       "      <td>14.1</td>\n",
       "      <td>52.5</td>\n",
       "      <td>61.3</td>\n",
       "      <td>34.1</td>\n",
       "      <td>102.98</td>\n",
       "      <td>19.0</td>\n",
       "    </tr>\n",
       "  </tbody>\n",
       "</table>\n",
       "<p>5 rows × 22 columns</p>\n",
       "</div>"
      ],
      "text/plain": [
       "              PLAYER TEAM  AGE  GP   W   L   MIN  OFFRTG  DEFRTG  NETRTG  \\\n",
       "0  Russell Westbrook  OKC   28  81  46  35  34.6   107.9   104.6     3.3   \n",
       "1   Boban Marjanovic  DET   28  35  16  19   8.4   104.3   102.4     1.9   \n",
       "2  Demetrius Jackson  BOS   22   5   1   4   3.4   124.2   117.8     6.3   \n",
       "3      Anthony Davis  NOP   24  75  31  44  36.1   104.2   102.5     1.7   \n",
       "4       James Harden  HOU   27  81  54  27  36.4   113.6   107.3     6.3   \n",
       "\n",
       "   ...   AST RATIO  OREB%  DREB%  REB%  TO RATIO  EFG%   TS%  USG%    PACE  \\\n",
       "0  ...        23.4    5.3   27.9  16.7      12.2  47.6  55.4  40.8  102.31   \n",
       "1  ...         5.1   16.6   31.3  23.9       5.7  54.5  60.6  24.8   97.20   \n",
       "2  ...        31.1    9.1   11.8  10.3       0.0  87.5  75.3  17.2   87.46   \n",
       "3  ...         7.3    6.7   26.9  17.0       8.4  51.8  58.0  32.6  100.19   \n",
       "4  ...        27.6    3.5   21.2  12.3      14.1  52.5  61.3  34.1  102.98   \n",
       "\n",
       "    PIE  \n",
       "0  23.0  \n",
       "1  19.6  \n",
       "2  19.4  \n",
       "3  19.2  \n",
       "4  19.0  \n",
       "\n",
       "[5 rows x 22 columns]"
      ]
     },
     "execution_count": 8,
     "metadata": {},
     "output_type": "execute_result"
    }
   ],
   "source": [
    "pie_df = pd.read_csv(\"../data/nba_2017_pie.csv\");pie_df.head()"
   ]
  },
  {
   "cell_type": "code",
   "execution_count": 9,
   "metadata": {},
   "outputs": [
    {
     "data": {
      "text/html": [
       "<div>\n",
       "<style>\n",
       "    .dataframe thead tr:only-child th {\n",
       "        text-align: right;\n",
       "    }\n",
       "\n",
       "    .dataframe thead th {\n",
       "        text-align: left;\n",
       "    }\n",
       "\n",
       "    .dataframe tbody tr th {\n",
       "        vertical-align: top;\n",
       "    }\n",
       "</style>\n",
       "<table border=\"1\" class=\"dataframe\">\n",
       "  <thead>\n",
       "    <tr style=\"text-align: right;\">\n",
       "      <th></th>\n",
       "      <th>NAME</th>\n",
       "      <th>TEAM</th>\n",
       "      <th>GP</th>\n",
       "      <th>MPG</th>\n",
       "      <th>ORPM</th>\n",
       "      <th>DRPM</th>\n",
       "      <th>RPM</th>\n",
       "      <th>WINS</th>\n",
       "    </tr>\n",
       "  </thead>\n",
       "  <tbody>\n",
       "    <tr>\n",
       "      <th>0</th>\n",
       "      <td>LeBron James, SF</td>\n",
       "      <td>CLE</td>\n",
       "      <td>74</td>\n",
       "      <td>37.8</td>\n",
       "      <td>6.49</td>\n",
       "      <td>1.93</td>\n",
       "      <td>8.42</td>\n",
       "      <td>20.43</td>\n",
       "    </tr>\n",
       "    <tr>\n",
       "      <th>1</th>\n",
       "      <td>Stephen Curry, PG</td>\n",
       "      <td>GS</td>\n",
       "      <td>79</td>\n",
       "      <td>33.4</td>\n",
       "      <td>7.27</td>\n",
       "      <td>0.14</td>\n",
       "      <td>7.41</td>\n",
       "      <td>18.80</td>\n",
       "    </tr>\n",
       "    <tr>\n",
       "      <th>2</th>\n",
       "      <td>Jimmy Butler, SG</td>\n",
       "      <td>CHI</td>\n",
       "      <td>76</td>\n",
       "      <td>37.0</td>\n",
       "      <td>4.82</td>\n",
       "      <td>1.80</td>\n",
       "      <td>6.62</td>\n",
       "      <td>17.35</td>\n",
       "    </tr>\n",
       "    <tr>\n",
       "      <th>3</th>\n",
       "      <td>Russell Westbrook, PG</td>\n",
       "      <td>OKC</td>\n",
       "      <td>81</td>\n",
       "      <td>34.6</td>\n",
       "      <td>6.74</td>\n",
       "      <td>-0.47</td>\n",
       "      <td>6.27</td>\n",
       "      <td>17.34</td>\n",
       "    </tr>\n",
       "    <tr>\n",
       "      <th>4</th>\n",
       "      <td>Draymond Green, PF</td>\n",
       "      <td>GS</td>\n",
       "      <td>76</td>\n",
       "      <td>32.5</td>\n",
       "      <td>1.55</td>\n",
       "      <td>5.59</td>\n",
       "      <td>7.14</td>\n",
       "      <td>16.84</td>\n",
       "    </tr>\n",
       "  </tbody>\n",
       "</table>\n",
       "</div>"
      ],
      "text/plain": [
       "                    NAME TEAM  GP   MPG  ORPM  DRPM   RPM   WINS\n",
       "0       LeBron James, SF  CLE  74  37.8  6.49  1.93  8.42  20.43\n",
       "1      Stephen Curry, PG   GS  79  33.4  7.27  0.14  7.41  18.80\n",
       "2       Jimmy Butler, SG  CHI  76  37.0  4.82  1.80  6.62  17.35\n",
       "3  Russell Westbrook, PG  OKC  81  34.6  6.74 -0.47  6.27  17.34\n",
       "4     Draymond Green, PF   GS  76  32.5  1.55  5.59  7.14  16.84"
      ]
     },
     "execution_count": 9,
     "metadata": {},
     "output_type": "execute_result"
    }
   ],
   "source": [
    "plus_minus_df = pd.read_csv(\"../data/nba_2017_real_plus_minus.csv\");plus_minus_df.head()"
   ]
  },
  {
   "cell_type": "code",
   "execution_count": 10,
   "metadata": {},
   "outputs": [
    {
     "data": {
      "text/html": [
       "<div>\n",
       "<style>\n",
       "    .dataframe thead tr:only-child th {\n",
       "        text-align: right;\n",
       "    }\n",
       "\n",
       "    .dataframe thead th {\n",
       "        text-align: left;\n",
       "    }\n",
       "\n",
       "    .dataframe tbody tr th {\n",
       "        vertical-align: top;\n",
       "    }\n",
       "</style>\n",
       "<table border=\"1\" class=\"dataframe\">\n",
       "  <thead>\n",
       "    <tr style=\"text-align: right;\">\n",
       "      <th></th>\n",
       "      <th>Rk</th>\n",
       "      <th>Player</th>\n",
       "      <th>Pos</th>\n",
       "      <th>Age</th>\n",
       "      <th>Tm</th>\n",
       "      <th>G</th>\n",
       "      <th>GS</th>\n",
       "      <th>MP</th>\n",
       "      <th>FG</th>\n",
       "      <th>FGA</th>\n",
       "      <th>...</th>\n",
       "      <th>FT%</th>\n",
       "      <th>ORB</th>\n",
       "      <th>DRB</th>\n",
       "      <th>TRB</th>\n",
       "      <th>AST</th>\n",
       "      <th>STL</th>\n",
       "      <th>BLK</th>\n",
       "      <th>TOV</th>\n",
       "      <th>PF</th>\n",
       "      <th>PS/G</th>\n",
       "    </tr>\n",
       "  </thead>\n",
       "  <tbody>\n",
       "    <tr>\n",
       "      <th>0</th>\n",
       "      <td>1</td>\n",
       "      <td>Russell Westbrook</td>\n",
       "      <td>PG</td>\n",
       "      <td>28</td>\n",
       "      <td>OKC</td>\n",
       "      <td>81</td>\n",
       "      <td>81</td>\n",
       "      <td>34.6</td>\n",
       "      <td>10.2</td>\n",
       "      <td>24.0</td>\n",
       "      <td>...</td>\n",
       "      <td>0.845</td>\n",
       "      <td>1.7</td>\n",
       "      <td>9.0</td>\n",
       "      <td>10.7</td>\n",
       "      <td>10.4</td>\n",
       "      <td>1.6</td>\n",
       "      <td>0.4</td>\n",
       "      <td>5.4</td>\n",
       "      <td>2.3</td>\n",
       "      <td>31.6</td>\n",
       "    </tr>\n",
       "    <tr>\n",
       "      <th>1</th>\n",
       "      <td>2</td>\n",
       "      <td>James Harden</td>\n",
       "      <td>PG</td>\n",
       "      <td>27</td>\n",
       "      <td>HOU</td>\n",
       "      <td>81</td>\n",
       "      <td>81</td>\n",
       "      <td>36.4</td>\n",
       "      <td>8.3</td>\n",
       "      <td>18.9</td>\n",
       "      <td>...</td>\n",
       "      <td>0.847</td>\n",
       "      <td>1.2</td>\n",
       "      <td>7.0</td>\n",
       "      <td>8.1</td>\n",
       "      <td>11.2</td>\n",
       "      <td>1.5</td>\n",
       "      <td>0.5</td>\n",
       "      <td>5.7</td>\n",
       "      <td>2.7</td>\n",
       "      <td>29.1</td>\n",
       "    </tr>\n",
       "    <tr>\n",
       "      <th>2</th>\n",
       "      <td>3</td>\n",
       "      <td>Isaiah Thomas</td>\n",
       "      <td>PG</td>\n",
       "      <td>27</td>\n",
       "      <td>BOS</td>\n",
       "      <td>76</td>\n",
       "      <td>76</td>\n",
       "      <td>33.8</td>\n",
       "      <td>9.0</td>\n",
       "      <td>19.4</td>\n",
       "      <td>...</td>\n",
       "      <td>0.909</td>\n",
       "      <td>0.6</td>\n",
       "      <td>2.1</td>\n",
       "      <td>2.7</td>\n",
       "      <td>5.9</td>\n",
       "      <td>0.9</td>\n",
       "      <td>0.2</td>\n",
       "      <td>2.8</td>\n",
       "      <td>2.2</td>\n",
       "      <td>28.9</td>\n",
       "    </tr>\n",
       "    <tr>\n",
       "      <th>3</th>\n",
       "      <td>4</td>\n",
       "      <td>Anthony Davis</td>\n",
       "      <td>C</td>\n",
       "      <td>23</td>\n",
       "      <td>NOP</td>\n",
       "      <td>75</td>\n",
       "      <td>75</td>\n",
       "      <td>36.1</td>\n",
       "      <td>10.3</td>\n",
       "      <td>20.3</td>\n",
       "      <td>...</td>\n",
       "      <td>0.802</td>\n",
       "      <td>2.3</td>\n",
       "      <td>9.5</td>\n",
       "      <td>11.8</td>\n",
       "      <td>2.1</td>\n",
       "      <td>1.3</td>\n",
       "      <td>2.2</td>\n",
       "      <td>2.4</td>\n",
       "      <td>2.2</td>\n",
       "      <td>28.0</td>\n",
       "    </tr>\n",
       "    <tr>\n",
       "      <th>4</th>\n",
       "      <td>5</td>\n",
       "      <td>DeMar DeRozan</td>\n",
       "      <td>SG</td>\n",
       "      <td>27</td>\n",
       "      <td>TOR</td>\n",
       "      <td>74</td>\n",
       "      <td>74</td>\n",
       "      <td>35.4</td>\n",
       "      <td>9.7</td>\n",
       "      <td>20.9</td>\n",
       "      <td>...</td>\n",
       "      <td>0.842</td>\n",
       "      <td>0.9</td>\n",
       "      <td>4.3</td>\n",
       "      <td>5.2</td>\n",
       "      <td>3.9</td>\n",
       "      <td>1.1</td>\n",
       "      <td>0.2</td>\n",
       "      <td>2.4</td>\n",
       "      <td>1.8</td>\n",
       "      <td>27.3</td>\n",
       "    </tr>\n",
       "  </tbody>\n",
       "</table>\n",
       "<p>5 rows × 30 columns</p>\n",
       "</div>"
      ],
      "text/plain": [
       "   Rk             Player Pos  Age   Tm   G  GS    MP    FG   FGA  ...     FT%  \\\n",
       "0   1  Russell Westbrook  PG   28  OKC  81  81  34.6  10.2  24.0  ...   0.845   \n",
       "1   2       James Harden  PG   27  HOU  81  81  36.4   8.3  18.9  ...   0.847   \n",
       "2   3      Isaiah Thomas  PG   27  BOS  76  76  33.8   9.0  19.4  ...   0.909   \n",
       "3   4      Anthony Davis   C   23  NOP  75  75  36.1  10.3  20.3  ...   0.802   \n",
       "4   5      DeMar DeRozan  SG   27  TOR  74  74  35.4   9.7  20.9  ...   0.842   \n",
       "\n",
       "   ORB  DRB   TRB   AST  STL  BLK  TOV   PF  PS/G  \n",
       "0  1.7  9.0  10.7  10.4  1.6  0.4  5.4  2.3  31.6  \n",
       "1  1.2  7.0   8.1  11.2  1.5  0.5  5.7  2.7  29.1  \n",
       "2  0.6  2.1   2.7   5.9  0.9  0.2  2.8  2.2  28.9  \n",
       "3  2.3  9.5  11.8   2.1  1.3  2.2  2.4  2.2  28.0  \n",
       "4  0.9  4.3   5.2   3.9  1.1  0.2  2.4  1.8  27.3  \n",
       "\n",
       "[5 rows x 30 columns]"
      ]
     },
     "execution_count": 10,
     "metadata": {},
     "output_type": "execute_result"
    }
   ],
   "source": [
    "br_stats_df = pd.read_csv(\"../data/nba_2017_br.csv\");br_stats_df.head()"
   ]
  },
  {
   "cell_type": "code",
   "execution_count": 11,
   "metadata": {},
   "outputs": [
    {
     "data": {
      "text/html": [
       "<div>\n",
       "<style>\n",
       "    .dataframe thead tr:only-child th {\n",
       "        text-align: right;\n",
       "    }\n",
       "\n",
       "    .dataframe thead th {\n",
       "        text-align: left;\n",
       "    }\n",
       "\n",
       "    .dataframe tbody tr th {\n",
       "        vertical-align: top;\n",
       "    }\n",
       "</style>\n",
       "<table border=\"1\" class=\"dataframe\">\n",
       "  <thead>\n",
       "    <tr style=\"text-align: right;\">\n",
       "      <th></th>\n",
       "      <th>ELO</th>\n",
       "      <th>TEAM</th>\n",
       "      <th>CONF</th>\n",
       "    </tr>\n",
       "  </thead>\n",
       "  <tbody>\n",
       "    <tr>\n",
       "      <th>0</th>\n",
       "      <td>1770</td>\n",
       "      <td>Golden State Warriors</td>\n",
       "      <td>West</td>\n",
       "    </tr>\n",
       "    <tr>\n",
       "      <th>1</th>\n",
       "      <td>1661</td>\n",
       "      <td>San Antonio Spurs</td>\n",
       "      <td>West</td>\n",
       "    </tr>\n",
       "    <tr>\n",
       "      <th>2</th>\n",
       "      <td>1636</td>\n",
       "      <td>Los Angeles Clippers</td>\n",
       "      <td>West</td>\n",
       "    </tr>\n",
       "    <tr>\n",
       "      <th>3</th>\n",
       "      <td>1617</td>\n",
       "      <td>Utah Jazz</td>\n",
       "      <td>West</td>\n",
       "    </tr>\n",
       "    <tr>\n",
       "      <th>4</th>\n",
       "      <td>1602</td>\n",
       "      <td>Houston Rockets</td>\n",
       "      <td>West</td>\n",
       "    </tr>\n",
       "  </tbody>\n",
       "</table>\n",
       "</div>"
      ],
      "text/plain": [
       "    ELO                   TEAM  CONF\n",
       "0  1770  Golden State Warriors  West\n",
       "1  1661      San Antonio Spurs  West\n",
       "2  1636   Los Angeles Clippers  West\n",
       "3  1617              Utah Jazz  West\n",
       "4  1602        Houston Rockets  West"
      ]
     },
     "execution_count": 11,
     "metadata": {},
     "output_type": "execute_result"
    }
   ],
   "source": [
    "elo_df = pd.read_csv(\"../data/nba_2017_elo.csv\");elo_df.head()"
   ]
  },
  {
   "cell_type": "code",
   "execution_count": 12,
   "metadata": {
    "collapsed": true
   },
   "outputs": [],
   "source": [
    "attendance_valuation_df = attendance_df.merge(valuations_df, how=\"inner\", on=\"TEAM\")"
   ]
  },
  {
   "cell_type": "code",
   "execution_count": 11,
   "metadata": {},
   "outputs": [
    {
     "data": {
      "text/html": [
       "<div>\n",
       "<style>\n",
       "    .dataframe thead tr:only-child th {\n",
       "        text-align: right;\n",
       "    }\n",
       "\n",
       "    .dataframe thead th {\n",
       "        text-align: left;\n",
       "    }\n",
       "\n",
       "    .dataframe tbody tr th {\n",
       "        vertical-align: top;\n",
       "    }\n",
       "</style>\n",
       "<table border=\"1\" class=\"dataframe\">\n",
       "  <thead>\n",
       "    <tr style=\"text-align: right;\">\n",
       "      <th></th>\n",
       "      <th>TEAM</th>\n",
       "      <th>GMS</th>\n",
       "      <th>PCT</th>\n",
       "      <th>TOTAL_MILLIONS</th>\n",
       "      <th>AVG_MILLIONS</th>\n",
       "      <th>VALUE_MILLIONS</th>\n",
       "    </tr>\n",
       "  </thead>\n",
       "  <tbody>\n",
       "    <tr>\n",
       "      <th>0</th>\n",
       "      <td>Chicago Bulls</td>\n",
       "      <td>41</td>\n",
       "      <td>104</td>\n",
       "      <td>0.888882</td>\n",
       "      <td>0.021680</td>\n",
       "      <td>2500.0</td>\n",
       "    </tr>\n",
       "    <tr>\n",
       "      <th>1</th>\n",
       "      <td>Dallas Mavericks</td>\n",
       "      <td>41</td>\n",
       "      <td>103</td>\n",
       "      <td>0.811366</td>\n",
       "      <td>0.019789</td>\n",
       "      <td>1450.0</td>\n",
       "    </tr>\n",
       "    <tr>\n",
       "      <th>2</th>\n",
       "      <td>Sacramento Kings</td>\n",
       "      <td>41</td>\n",
       "      <td>101</td>\n",
       "      <td>0.721928</td>\n",
       "      <td>0.017608</td>\n",
       "      <td>1075.0</td>\n",
       "    </tr>\n",
       "    <tr>\n",
       "      <th>3</th>\n",
       "      <td>Miami Heat</td>\n",
       "      <td>41</td>\n",
       "      <td>100</td>\n",
       "      <td>0.805400</td>\n",
       "      <td>0.019643</td>\n",
       "      <td>1350.0</td>\n",
       "    </tr>\n",
       "    <tr>\n",
       "      <th>4</th>\n",
       "      <td>Toronto Raptors</td>\n",
       "      <td>41</td>\n",
       "      <td>100</td>\n",
       "      <td>0.813050</td>\n",
       "      <td>0.019830</td>\n",
       "      <td>1125.0</td>\n",
       "    </tr>\n",
       "  </tbody>\n",
       "</table>\n",
       "</div>"
      ],
      "text/plain": [
       "               TEAM  GMS  PCT  TOTAL_MILLIONS  AVG_MILLIONS  VALUE_MILLIONS\n",
       "0     Chicago Bulls   41  104        0.888882      0.021680          2500.0\n",
       "1  Dallas Mavericks   41  103        0.811366      0.019789          1450.0\n",
       "2  Sacramento Kings   41  101        0.721928      0.017608          1075.0\n",
       "3        Miami Heat   41  100        0.805400      0.019643          1350.0\n",
       "4   Toronto Raptors   41  100        0.813050      0.019830          1125.0"
      ]
     },
     "execution_count": 11,
     "metadata": {},
     "output_type": "execute_result"
    }
   ],
   "source": [
    "attendance_valuation_df.head()"
   ]
  },
  {
   "cell_type": "code",
   "execution_count": 12,
   "metadata": {
    "scrolled": true
   },
   "outputs": [
    {
     "data": {
      "text/html": [
       "<style>.container { width:100% !important; }</style>"
      ],
      "text/plain": [
       "<IPython.core.display.HTML object>"
      ]
     },
     "metadata": {},
     "output_type": "display_data"
    },
    {
     "data": {
      "text/plain": [
       "<seaborn.axisgrid.PairGrid at 0x115c18898>"
      ]
     },
     "execution_count": 12,
     "metadata": {},
     "output_type": "execute_result"
    },
    {
     "data": {
      "image/png": "[encoded data removed]",
      "text/plain": [
       "<matplotlib.figure.Figure at 0x115c18518>"
      ]
     },
     "metadata": {},
     "output_type": "display_data"
    }
   ],
   "source": [
    "from IPython.core.display import display, HTML\n",
    "display(HTML(\"<style>.container { width:100% !important; }</style>\"));sns.pairplot(attendance_valuation_df, hue=\"TEAM\")"
   ]
  },
  {
   "cell_type": "code",
   "execution_count": 15,
   "metadata": {},
   "outputs": [
    {
     "data": {
      "text/html": [
       "<div>\n",
       "<style>\n",
       "    .dataframe thead tr:only-child th {\n",
       "        text-align: right;\n",
       "    }\n",
       "\n",
       "    .dataframe thead th {\n",
       "        text-align: left;\n",
       "    }\n",
       "\n",
       "    .dataframe tbody tr th {\n",
       "        vertical-align: top;\n",
       "    }\n",
       "</style>\n",
       "<table border=\"1\" class=\"dataframe\">\n",
       "  <thead>\n",
       "    <tr style=\"text-align: right;\">\n",
       "      <th></th>\n",
       "      <th>GMS</th>\n",
       "      <th>PCT</th>\n",
       "      <th>TOTAL_MILLIONS</th>\n",
       "      <th>AVG_MILLIONS</th>\n",
       "      <th>VALUE_MILLIONS</th>\n",
       "    </tr>\n",
       "  </thead>\n",
       "  <tbody>\n",
       "    <tr>\n",
       "      <th>GMS</th>\n",
       "      <td>NaN</td>\n",
       "      <td>NaN</td>\n",
       "      <td>NaN</td>\n",
       "      <td>NaN</td>\n",
       "      <td>NaN</td>\n",
       "    </tr>\n",
       "    <tr>\n",
       "      <th>PCT</th>\n",
       "      <td>NaN</td>\n",
       "      <td>1.000000</td>\n",
       "      <td>0.850839</td>\n",
       "      <td>0.85085</td>\n",
       "      <td>0.476644</td>\n",
       "    </tr>\n",
       "    <tr>\n",
       "      <th>TOTAL_MILLIONS</th>\n",
       "      <td>NaN</td>\n",
       "      <td>0.850839</td>\n",
       "      <td>1.000000</td>\n",
       "      <td>1.00000</td>\n",
       "      <td>0.530697</td>\n",
       "    </tr>\n",
       "    <tr>\n",
       "      <th>AVG_MILLIONS</th>\n",
       "      <td>NaN</td>\n",
       "      <td>0.850850</td>\n",
       "      <td>1.000000</td>\n",
       "      <td>1.00000</td>\n",
       "      <td>0.530730</td>\n",
       "    </tr>\n",
       "    <tr>\n",
       "      <th>VALUE_MILLIONS</th>\n",
       "      <td>NaN</td>\n",
       "      <td>0.476644</td>\n",
       "      <td>0.530697</td>\n",
       "      <td>0.53073</td>\n",
       "      <td>1.000000</td>\n",
       "    </tr>\n",
       "  </tbody>\n",
       "</table>\n",
       "</div>"
      ],
      "text/plain": [
       "                GMS       PCT  TOTAL_MILLIONS  AVG_MILLIONS  VALUE_MILLIONS\n",
       "GMS             NaN       NaN             NaN           NaN             NaN\n",
       "PCT             NaN  1.000000        0.850839       0.85085        0.476644\n",
       "TOTAL_MILLIONS  NaN  0.850839        1.000000       1.00000        0.530697\n",
       "AVG_MILLIONS    NaN  0.850850        1.000000       1.00000        0.530730\n",
       "VALUE_MILLIONS  NaN  0.476644        0.530697       0.53073        1.000000"
      ]
     },
     "execution_count": 15,
     "metadata": {},
     "output_type": "execute_result"
    }
   ],
   "source": [
    "attendance_valuation_df.corr()\n"
   ]
  },
  {
   "cell_type": "code",
   "execution_count": 13,
   "metadata": {},
   "outputs": [
    {
     "data": {
      "text/plain": [
       "<matplotlib.axes._subplots.AxesSubplot at 0x116020780>"
      ]
     },
     "execution_count": 13,
     "metadata": {},
     "output_type": "execute_result"
    },
    {
     "data": {
      "image/png": "[encoded data removed]",
      "text/plain": [
       "<matplotlib.figure.Figure at 0x11601ad68>"
      ]
     },
     "metadata": {},
     "output_type": "display_data"
    }
   ],
   "source": [
    "corr = attendance_valuation_df.corr()\n",
    "sns.heatmap(corr, \n",
    "            xticklabels=corr.columns.values,\n",
    "            yticklabels=corr.columns.values)"
   ]
  },
  {
   "cell_type": "code",
   "execution_count": 16,
   "metadata": {
    "collapsed": true
   },
   "outputs": [],
   "source": [
    "attendance_valuation_df.to_csv(\"../data/nba_2017_att_val.csv\")"
   ]
  },
  {
   "cell_type": "code",
   "execution_count": 17,
   "metadata": {},
   "outputs": [
    {
     "data": {
      "text/html": [
       "<div>\n",
       "<style>\n",
       "    .dataframe thead tr:only-child th {\n",
       "        text-align: right;\n",
       "    }\n",
       "\n",
       "    .dataframe thead th {\n",
       "        text-align: left;\n",
       "    }\n",
       "\n",
       "    .dataframe tbody tr th {\n",
       "        vertical-align: top;\n",
       "    }\n",
       "</style>\n",
       "<table border=\"1\" class=\"dataframe\">\n",
       "  <thead>\n",
       "    <tr style=\"text-align: right;\">\n",
       "      <th></th>\n",
       "      <th>TEAM</th>\n",
       "      <th>GMS</th>\n",
       "      <th>PCT</th>\n",
       "      <th>TOTAL_MILLIONS</th>\n",
       "      <th>AVG_MILLIONS</th>\n",
       "      <th>VALUE_MILLIONS</th>\n",
       "    </tr>\n",
       "  </thead>\n",
       "  <tbody>\n",
       "    <tr>\n",
       "      <th>0</th>\n",
       "      <td>Chicago Bulls</td>\n",
       "      <td>41</td>\n",
       "      <td>104</td>\n",
       "      <td>0.888882</td>\n",
       "      <td>0.021680</td>\n",
       "      <td>2500.0</td>\n",
       "    </tr>\n",
       "    <tr>\n",
       "      <th>1</th>\n",
       "      <td>Dallas Mavericks</td>\n",
       "      <td>41</td>\n",
       "      <td>103</td>\n",
       "      <td>0.811366</td>\n",
       "      <td>0.019789</td>\n",
       "      <td>1450.0</td>\n",
       "    </tr>\n",
       "    <tr>\n",
       "      <th>2</th>\n",
       "      <td>Sacramento Kings</td>\n",
       "      <td>41</td>\n",
       "      <td>101</td>\n",
       "      <td>0.721928</td>\n",
       "      <td>0.017608</td>\n",
       "      <td>1075.0</td>\n",
       "    </tr>\n",
       "    <tr>\n",
       "      <th>3</th>\n",
       "      <td>Miami Heat</td>\n",
       "      <td>41</td>\n",
       "      <td>100</td>\n",
       "      <td>0.805400</td>\n",
       "      <td>0.019643</td>\n",
       "      <td>1350.0</td>\n",
       "    </tr>\n",
       "    <tr>\n",
       "      <th>4</th>\n",
       "      <td>Toronto Raptors</td>\n",
       "      <td>41</td>\n",
       "      <td>100</td>\n",
       "      <td>0.813050</td>\n",
       "      <td>0.019830</td>\n",
       "      <td>1125.0</td>\n",
       "    </tr>\n",
       "  </tbody>\n",
       "</table>\n",
       "</div>"
      ],
      "text/plain": [
       "               TEAM  GMS  PCT  TOTAL_MILLIONS  AVG_MILLIONS  VALUE_MILLIONS\n",
       "0     Chicago Bulls   41  104        0.888882      0.021680          2500.0\n",
       "1  Dallas Mavericks   41  103        0.811366      0.019789          1450.0\n",
       "2  Sacramento Kings   41  101        0.721928      0.017608          1075.0\n",
       "3        Miami Heat   41  100        0.805400      0.019643          1350.0\n",
       "4   Toronto Raptors   41  100        0.813050      0.019830          1125.0"
      ]
     },
     "execution_count": 17,
     "metadata": {},
     "output_type": "execute_result"
    }
   ],
   "source": [
    "attendance_valuation_df.head()"
   ]
  },
  {
   "cell_type": "code",
   "execution_count": null,
   "metadata": {
    "collapsed": true
   },
   "outputs": [],
   "source": []
  },
  {
   "cell_type": "code",
   "execution_count": 19,
   "metadata": {
    "collapsed": true
   },
   "outputs": [],
   "source": [
    "valuations = attendance_valuation_df.pivot(\"TEAM\", \"AVG_MILLIONS\", \"VALUE_MILLIONS\")"
   ]
  },
  {
   "cell_type": "code",
   "execution_count": 20,
   "metadata": {},
   "outputs": [
    {
     "data": {
      "text/plain": [
       "<matplotlib.axes._subplots.AxesSubplot at 0x1162539b0>"
      ]
     },
     "execution_count": 20,
     "metadata": {},
     "output_type": "execute_result"
    },
    {
     "data": {
      "image/png": "[encoded data removed]",
      "text/plain": [
       "<matplotlib.figure.Figure at 0x1162538d0>"
      ]
     },
     "metadata": {},
     "output_type": "display_data"
    }
   ],
   "source": [
    "plt.subplots(figsize=(25,17))\n",
    "ax = plt.axes()\n",
    "ax.set_title(\"NBA Team AVG Attendance vs Valuation in Millions:  2016-2017 Season\")\n",
    "sns.heatmap(valuations,linewidths=.5, annot=True, fmt='g')"
   ]
  },
  {
   "cell_type": "code",
   "execution_count": 21,
   "metadata": {
    "collapsed": true
   },
   "outputs": [],
   "source": [
    "results = smf.ols('VALUE_MILLIONS ~AVG_MILLIONS', data=attendance_valuation_df).fit()"
   ]
  },
  {
   "cell_type": "code",
   "execution_count": 22,
   "metadata": {},
   "outputs": [
    {
     "name": "stdout",
     "output_type": "stream",
     "text": [
      "                            OLS Regression Results                            \n",
      "==============================================================================\n",
      "Dep. Variable:         VALUE_MILLIONS   R-squared:                       0.282\n",
      "Model:                            OLS   Adj. R-squared:                  0.256\n",
      "Method:                 Least Squares   F-statistic:                     10.98\n",
      "Date:                Tue, 28 Nov 2017   Prob (F-statistic):            0.00255\n",
      "Time:                        09:32:22   Log-Likelihood:                -234.04\n",
      "No. Observations:                  30   AIC:                             472.1\n",
      "Df Residuals:                      28   BIC:                             474.9\n",
      "Df Model:                           1                                         \n",
      "Covariance Type:            nonrobust                                         \n",
      "================================================================================\n",
      "                   coef    std err          t      P>|t|      [0.025      0.975]\n",
      "--------------------------------------------------------------------------------\n",
      "Intercept    -2408.0155   1141.235     -2.110      0.044   -4745.729     -70.302\n",
      "AVG_MILLIONS  2.104e+05   6.35e+04      3.314      0.003    8.03e+04    3.41e+05\n",
      "==============================================================================\n",
      "Omnibus:                        7.692   Durbin-Watson:                   1.930\n",
      "Prob(Omnibus):                  0.021   Jarque-Bera (JB):                6.354\n",
      "Skew:                           1.100   Prob(JB):                       0.0417\n",
      "Kurtosis:                       3.495   Cond. No.                         568.\n",
      "==============================================================================\n",
      "\n",
      "Warnings:\n",
      "[1] Standard Errors assume that the covariance matrix of the errors is correctly specified.\n"
     ]
    }
   ],
   "source": [
    "print(results.summary())"
   ]
  },
  {
   "cell_type": "code",
   "execution_count": 26,
   "metadata": {},
   "outputs": [
    {
     "data": {
      "text/plain": [
       "<matplotlib.axes._subplots.AxesSubplot at 0x11c2ece48>"
      ]
     },
     "execution_count": 26,
     "metadata": {},
     "output_type": "execute_result"
    },
    {
     "data": {
      "image/png": "[encoded data removed]",
      "text/plain": [
       "<matplotlib.figure.Figure at 0x11c2aff60>"
      ]
     },
     "metadata": {},
     "output_type": "display_data"
    }
   ],
   "source": [
    "sns.residplot(y=\"VALUE_MILLIONS\", x=\"AVG_MILLIONS\", data=attendance_valuation_df)"
   ]
  },
  {
   "cell_type": "code",
   "execution_count": 23,
   "metadata": {
    "collapsed": true
   },
   "outputs": [],
   "source": [
    "attendance_valuation_elo_df = attendance_valuation_df.merge(elo_df, how=\"inner\", on=\"TEAM\")"
   ]
  },
  {
   "cell_type": "code",
   "execution_count": 24,
   "metadata": {},
   "outputs": [
    {
     "data": {
      "text/html": [
       "<div>\n",
       "<style>\n",
       "    .dataframe thead tr:only-child th {\n",
       "        text-align: right;\n",
       "    }\n",
       "\n",
       "    .dataframe thead th {\n",
       "        text-align: left;\n",
       "    }\n",
       "\n",
       "    .dataframe tbody tr th {\n",
       "        vertical-align: top;\n",
       "    }\n",
       "</style>\n",
       "<table border=\"1\" class=\"dataframe\">\n",
       "  <thead>\n",
       "    <tr style=\"text-align: right;\">\n",
       "      <th></th>\n",
       "      <th>TEAM</th>\n",
       "      <th>GMS</th>\n",
       "      <th>PCT</th>\n",
       "      <th>TOTAL_MILLIONS</th>\n",
       "      <th>AVG_MILLIONS</th>\n",
       "      <th>VALUE_MILLIONS</th>\n",
       "      <th>ELO</th>\n",
       "      <th>CONF</th>\n",
       "    </tr>\n",
       "  </thead>\n",
       "  <tbody>\n",
       "    <tr>\n",
       "      <th>0</th>\n",
       "      <td>Chicago Bulls</td>\n",
       "      <td>41</td>\n",
       "      <td>104</td>\n",
       "      <td>0.888882</td>\n",
       "      <td>0.021680</td>\n",
       "      <td>2500.0</td>\n",
       "      <td>1519</td>\n",
       "      <td>East</td>\n",
       "    </tr>\n",
       "    <tr>\n",
       "      <th>1</th>\n",
       "      <td>Dallas Mavericks</td>\n",
       "      <td>41</td>\n",
       "      <td>103</td>\n",
       "      <td>0.811366</td>\n",
       "      <td>0.019789</td>\n",
       "      <td>1450.0</td>\n",
       "      <td>1420</td>\n",
       "      <td>West</td>\n",
       "    </tr>\n",
       "    <tr>\n",
       "      <th>2</th>\n",
       "      <td>Sacramento Kings</td>\n",
       "      <td>41</td>\n",
       "      <td>101</td>\n",
       "      <td>0.721928</td>\n",
       "      <td>0.017608</td>\n",
       "      <td>1075.0</td>\n",
       "      <td>1393</td>\n",
       "      <td>West</td>\n",
       "    </tr>\n",
       "    <tr>\n",
       "      <th>3</th>\n",
       "      <td>Miami Heat</td>\n",
       "      <td>41</td>\n",
       "      <td>100</td>\n",
       "      <td>0.805400</td>\n",
       "      <td>0.019643</td>\n",
       "      <td>1350.0</td>\n",
       "      <td>1569</td>\n",
       "      <td>East</td>\n",
       "    </tr>\n",
       "    <tr>\n",
       "      <th>4</th>\n",
       "      <td>Toronto Raptors</td>\n",
       "      <td>41</td>\n",
       "      <td>100</td>\n",
       "      <td>0.813050</td>\n",
       "      <td>0.019830</td>\n",
       "      <td>1125.0</td>\n",
       "      <td>1600</td>\n",
       "      <td>East</td>\n",
       "    </tr>\n",
       "  </tbody>\n",
       "</table>\n",
       "</div>"
      ],
      "text/plain": [
       "               TEAM  GMS  PCT  TOTAL_MILLIONS  AVG_MILLIONS  VALUE_MILLIONS  \\\n",
       "0     Chicago Bulls   41  104        0.888882      0.021680          2500.0   \n",
       "1  Dallas Mavericks   41  103        0.811366      0.019789          1450.0   \n",
       "2  Sacramento Kings   41  101        0.721928      0.017608          1075.0   \n",
       "3        Miami Heat   41  100        0.805400      0.019643          1350.0   \n",
       "4   Toronto Raptors   41  100        0.813050      0.019830          1125.0   \n",
       "\n",
       "    ELO  CONF  \n",
       "0  1519  East  \n",
       "1  1420  West  \n",
       "2  1393  West  \n",
       "3  1569  East  \n",
       "4  1600  East  "
      ]
     },
     "execution_count": 24,
     "metadata": {},
     "output_type": "execute_result"
    }
   ],
   "source": [
    "attendance_valuation_elo_df.head()"
   ]
  },
  {
   "cell_type": "code",
   "execution_count": 25,
   "metadata": {
    "collapsed": true
   },
   "outputs": [],
   "source": [
    "attendance_valuation_elo_df.to_csv(\"../data/nba_2017_att_val_elo.csv\")"
   ]
  },
  {
   "cell_type": "code",
   "execution_count": 26,
   "metadata": {},
   "outputs": [
    {
     "data": {
      "text/html": [
       "<div>\n",
       "<style>\n",
       "    .dataframe thead tr:only-child th {\n",
       "        text-align: right;\n",
       "    }\n",
       "\n",
       "    .dataframe thead th {\n",
       "        text-align: left;\n",
       "    }\n",
       "\n",
       "    .dataframe tbody tr th {\n",
       "        vertical-align: top;\n",
       "    }\n",
       "</style>\n",
       "<table border=\"1\" class=\"dataframe\">\n",
       "  <thead>\n",
       "    <tr style=\"text-align: right;\">\n",
       "      <th></th>\n",
       "      <th>GMS</th>\n",
       "      <th>PCT</th>\n",
       "      <th>TOTAL_MILLIONS</th>\n",
       "      <th>AVG_MILLIONS</th>\n",
       "      <th>VALUE_MILLIONS</th>\n",
       "      <th>ELO</th>\n",
       "    </tr>\n",
       "  </thead>\n",
       "  <tbody>\n",
       "    <tr>\n",
       "      <th>GMS</th>\n",
       "      <td>NaN</td>\n",
       "      <td>NaN</td>\n",
       "      <td>NaN</td>\n",
       "      <td>NaN</td>\n",
       "      <td>NaN</td>\n",
       "      <td>NaN</td>\n",
       "    </tr>\n",
       "    <tr>\n",
       "      <th>PCT</th>\n",
       "      <td>NaN</td>\n",
       "      <td>1.000000</td>\n",
       "      <td>0.850839</td>\n",
       "      <td>0.85085</td>\n",
       "      <td>0.476644</td>\n",
       "      <td>0.251144</td>\n",
       "    </tr>\n",
       "    <tr>\n",
       "      <th>TOTAL_MILLIONS</th>\n",
       "      <td>NaN</td>\n",
       "      <td>0.850839</td>\n",
       "      <td>1.000000</td>\n",
       "      <td>1.00000</td>\n",
       "      <td>0.530697</td>\n",
       "      <td>0.285907</td>\n",
       "    </tr>\n",
       "    <tr>\n",
       "      <th>AVG_MILLIONS</th>\n",
       "      <td>NaN</td>\n",
       "      <td>0.850850</td>\n",
       "      <td>1.000000</td>\n",
       "      <td>1.00000</td>\n",
       "      <td>0.530730</td>\n",
       "      <td>0.285930</td>\n",
       "    </tr>\n",
       "    <tr>\n",
       "      <th>VALUE_MILLIONS</th>\n",
       "      <td>NaN</td>\n",
       "      <td>0.476644</td>\n",
       "      <td>0.530697</td>\n",
       "      <td>0.53073</td>\n",
       "      <td>1.000000</td>\n",
       "      <td>0.060575</td>\n",
       "    </tr>\n",
       "    <tr>\n",
       "      <th>ELO</th>\n",
       "      <td>NaN</td>\n",
       "      <td>0.251144</td>\n",
       "      <td>0.285907</td>\n",
       "      <td>0.28593</td>\n",
       "      <td>0.060575</td>\n",
       "      <td>1.000000</td>\n",
       "    </tr>\n",
       "  </tbody>\n",
       "</table>\n",
       "</div>"
      ],
      "text/plain": [
       "                GMS       PCT  TOTAL_MILLIONS  AVG_MILLIONS  VALUE_MILLIONS  \\\n",
       "GMS             NaN       NaN             NaN           NaN             NaN   \n",
       "PCT             NaN  1.000000        0.850839       0.85085        0.476644   \n",
       "TOTAL_MILLIONS  NaN  0.850839        1.000000       1.00000        0.530697   \n",
       "AVG_MILLIONS    NaN  0.850850        1.000000       1.00000        0.530730   \n",
       "VALUE_MILLIONS  NaN  0.476644        0.530697       0.53073        1.000000   \n",
       "ELO             NaN  0.251144        0.285907       0.28593        0.060575   \n",
       "\n",
       "                     ELO  \n",
       "GMS                  NaN  \n",
       "PCT             0.251144  \n",
       "TOTAL_MILLIONS  0.285907  \n",
       "AVG_MILLIONS    0.285930  \n",
       "VALUE_MILLIONS  0.060575  \n",
       "ELO             1.000000  "
      ]
     },
     "execution_count": 26,
     "metadata": {},
     "output_type": "execute_result"
    }
   ],
   "source": [
    "attendance_valuation_elo_df.corr()"
   ]
  },
  {
   "cell_type": "code",
   "execution_count": 27,
   "metadata": {},
   "outputs": [
    {
     "data": {
      "text/plain": [
       "<matplotlib.axes._subplots.AxesSubplot at 0x115e93080>"
      ]
     },
     "execution_count": 27,
     "metadata": {},
     "output_type": "execute_result"
    },
    {
     "data": {
      "image/png": "[encoded data removed]",
      "text/plain": [
       "<matplotlib.figure.Figure at 0x115e932e8>"
      ]
     },
     "metadata": {},
     "output_type": "display_data"
    }
   ],
   "source": [
    "corr_elo = attendance_valuation_elo_df.corr()\n",
    "plt.subplots(figsize=(20,15))\n",
    "ax = plt.axes()\n",
    "ax.set_title(\"NBA Team Correlation Heatmap:  2016-2017 Season (ELO, AVG Attendance, VALUATION IN MILLIONS)\")\n",
    "sns.heatmap(corr_elo, \n",
    "            xticklabels=corr_elo.columns.values,\n",
    "            yticklabels=corr_elo.columns.values)"
   ]
  },
  {
   "cell_type": "code",
   "execution_count": 31,
   "metadata": {
    "scrolled": true
   },
   "outputs": [
    {
     "data": {
      "text/html": [
       "<div>\n",
       "<style>\n",
       "    .dataframe thead tr:only-child th {\n",
       "        text-align: right;\n",
       "    }\n",
       "\n",
       "    .dataframe thead th {\n",
       "        text-align: left;\n",
       "    }\n",
       "\n",
       "    .dataframe tbody tr th {\n",
       "        vertical-align: top;\n",
       "    }\n",
       "</style>\n",
       "<table border=\"1\" class=\"dataframe\">\n",
       "  <thead>\n",
       "    <tr style=\"text-align: right;\">\n",
       "      <th></th>\n",
       "      <th>GMS</th>\n",
       "      <th>PCT</th>\n",
       "      <th>TOTAL_MILLIONS</th>\n",
       "      <th>AVG_MILLIONS</th>\n",
       "      <th>VALUE_MILLIONS</th>\n",
       "      <th>ELO</th>\n",
       "    </tr>\n",
       "  </thead>\n",
       "  <tbody>\n",
       "    <tr>\n",
       "      <th>GMS</th>\n",
       "      <td>NaN</td>\n",
       "      <td>NaN</td>\n",
       "      <td>NaN</td>\n",
       "      <td>NaN</td>\n",
       "      <td>NaN</td>\n",
       "      <td>NaN</td>\n",
       "    </tr>\n",
       "    <tr>\n",
       "      <th>PCT</th>\n",
       "      <td>NaN</td>\n",
       "      <td>1.000000</td>\n",
       "      <td>0.850839</td>\n",
       "      <td>0.85085</td>\n",
       "      <td>0.476644</td>\n",
       "      <td>0.251144</td>\n",
       "    </tr>\n",
       "    <tr>\n",
       "      <th>TOTAL_MILLIONS</th>\n",
       "      <td>NaN</td>\n",
       "      <td>0.850839</td>\n",
       "      <td>1.000000</td>\n",
       "      <td>1.00000</td>\n",
       "      <td>0.530697</td>\n",
       "      <td>0.285907</td>\n",
       "    </tr>\n",
       "    <tr>\n",
       "      <th>AVG_MILLIONS</th>\n",
       "      <td>NaN</td>\n",
       "      <td>0.850850</td>\n",
       "      <td>1.000000</td>\n",
       "      <td>1.00000</td>\n",
       "      <td>0.530730</td>\n",
       "      <td>0.285930</td>\n",
       "    </tr>\n",
       "    <tr>\n",
       "      <th>VALUE_MILLIONS</th>\n",
       "      <td>NaN</td>\n",
       "      <td>0.476644</td>\n",
       "      <td>0.530697</td>\n",
       "      <td>0.53073</td>\n",
       "      <td>1.000000</td>\n",
       "      <td>0.060575</td>\n",
       "    </tr>\n",
       "    <tr>\n",
       "      <th>ELO</th>\n",
       "      <td>NaN</td>\n",
       "      <td>0.251144</td>\n",
       "      <td>0.285907</td>\n",
       "      <td>0.28593</td>\n",
       "      <td>0.060575</td>\n",
       "      <td>1.000000</td>\n",
       "    </tr>\n",
       "  </tbody>\n",
       "</table>\n",
       "</div>"
      ],
      "text/plain": [
       "                GMS       PCT  TOTAL_MILLIONS  AVG_MILLIONS  VALUE_MILLIONS  \\\n",
       "GMS             NaN       NaN             NaN           NaN             NaN   \n",
       "PCT             NaN  1.000000        0.850839       0.85085        0.476644   \n",
       "TOTAL_MILLIONS  NaN  0.850839        1.000000       1.00000        0.530697   \n",
       "AVG_MILLIONS    NaN  0.850850        1.000000       1.00000        0.530730   \n",
       "VALUE_MILLIONS  NaN  0.476644        0.530697       0.53073        1.000000   \n",
       "ELO             NaN  0.251144        0.285907       0.28593        0.060575   \n",
       "\n",
       "                     ELO  \n",
       "GMS                  NaN  \n",
       "PCT             0.251144  \n",
       "TOTAL_MILLIONS  0.285907  \n",
       "AVG_MILLIONS    0.285930  \n",
       "VALUE_MILLIONS  0.060575  \n",
       "ELO             1.000000  "
      ]
     },
     "execution_count": 31,
     "metadata": {},
     "output_type": "execute_result"
    }
   ],
   "source": [
    "corr_elo"
   ]
  },
  {
   "cell_type": "markdown",
   "metadata": {},
   "source": [
    "### How to change confidence intervals in seaborn"
   ]
  },
  {
   "cell_type": "code",
   "execution_count": 29,
   "metadata": {},
   "outputs": [
    {
     "data": {
      "text/plain": [
       "<seaborn.axisgrid.FacetGrid at 0x1162c7b00>"
      ]
     },
     "execution_count": 29,
     "metadata": {},
     "output_type": "execute_result"
    },
    {
     "data": {
      "image/png": "[encoded data removed]",
      "text/plain": [
       "<matplotlib.figure.Figure at 0x116512eb8>"
      ]
     },
     "metadata": {},
     "output_type": "display_data"
    }
   ],
   "source": [
    "ax = sns.lmplot(x=\"ELO\", y=\"AVG_MILLIONS\", data=attendance_valuation_elo_df, hue=\"CONF\", size=12)\n",
    "ax.set(xlabel='ELO Score', ylabel='Average Attendence Per Game', title=\"NBA Team AVG Attendance vs ELO Ranking:  2016-2017 Season\")"
   ]
  },
  {
   "cell_type": "code",
   "execution_count": 30,
   "metadata": {},
   "outputs": [
    {
     "data": {
      "text/plain": [
       "CONF\n",
       "East    1502\n",
       "West    1543\n",
       "Name: ELO, dtype: int64"
      ]
     },
     "execution_count": 30,
     "metadata": {},
     "output_type": "execute_result"
    }
   ],
   "source": [
    "attendance_valuation_elo_df.groupby(\"CONF\")[\"ELO\"].median()\n"
   ]
  },
  {
   "cell_type": "code",
   "execution_count": 37,
   "metadata": {},
   "outputs": [
    {
     "data": {
      "text/plain": [
       "CONF\n",
       "East    0.017332\n",
       "West    0.018203\n",
       "Name: AVG_MILLIONS, dtype: float64"
      ]
     },
     "execution_count": 37,
     "metadata": {},
     "output_type": "execute_result"
    }
   ],
   "source": [
    "attendance_valuation_elo_df.groupby(\"CONF\")[\"AVG_MILLIONS\"].median()"
   ]
  },
  {
   "cell_type": "code",
   "execution_count": 31,
   "metadata": {
    "collapsed": true
   },
   "outputs": [],
   "source": [
    "results = smf.ols('AVG_MILLIONS ~ELO', data=attendance_valuation_elo_df).fit()"
   ]
  },
  {
   "cell_type": "code",
   "execution_count": 32,
   "metadata": {},
   "outputs": [
    {
     "name": "stdout",
     "output_type": "stream",
     "text": [
      "                            OLS Regression Results                            \n",
      "==============================================================================\n",
      "Dep. Variable:           AVG_MILLIONS   R-squared:                       0.082\n",
      "Model:                            OLS   Adj. R-squared:                  0.049\n",
      "Method:                 Least Squares   F-statistic:                     2.493\n",
      "Date:                Tue, 28 Nov 2017   Prob (F-statistic):              0.126\n",
      "Time:                        09:50:47   Log-Likelihood:                 148.99\n",
      "No. Observations:                  30   AIC:                            -294.0\n",
      "Df Residuals:                      28   BIC:                            -291.2\n",
      "Df Model:                           1                                         \n",
      "Covariance Type:            nonrobust                                         \n",
      "==============================================================================\n",
      "                 coef    std err          t      P>|t|      [0.025      0.975]\n",
      "------------------------------------------------------------------------------\n",
      "Intercept      0.0107      0.005      2.333      0.027       0.001       0.020\n",
      "ELO          4.79e-06   3.03e-06      1.579      0.126   -1.42e-06     1.1e-05\n",
      "==============================================================================\n",
      "Omnibus:                        0.339   Durbin-Watson:                   0.651\n",
      "Prob(Omnibus):                  0.844   Jarque-Bera (JB):                0.507\n",
      "Skew:                           0.087   Prob(JB):                        0.776\n",
      "Kurtosis:                       2.387   Cond. No.                     2.17e+04\n",
      "==============================================================================\n",
      "\n",
      "Warnings:\n",
      "[1] Standard Errors assume that the covariance matrix of the errors is correctly specified.\n",
      "[2] The condition number is large, 2.17e+04. This might indicate that there are\n",
      "strong multicollinearity or other numerical problems.\n"
     ]
    }
   ],
   "source": [
    "print(results.summary())"
   ]
  },
  {
   "cell_type": "code",
   "execution_count": 38,
   "metadata": {
    "collapsed": true
   },
   "outputs": [],
   "source": [
    "from sklearn.cluster import KMeans"
   ]
  },
  {
   "cell_type": "code",
   "execution_count": 39,
   "metadata": {
    "collapsed": true
   },
   "outputs": [],
   "source": [
    "k_means = KMeans(n_clusters=3)"
   ]
  },
  {
   "cell_type": "code",
   "execution_count": 40,
   "metadata": {
    "collapsed": true
   },
   "outputs": [],
   "source": [
    "cluster_source = attendance_valuation_elo_df.loc[:,[\"AVG_MILLIONS\", \"ELO\", \"VALUE_MILLIONS\"]]"
   ]
  },
  {
   "cell_type": "code",
   "execution_count": 41,
   "metadata": {
    "collapsed": true
   },
   "outputs": [],
   "source": [
    "kmeans = k_means.fit(cluster_source)"
   ]
  },
  {
   "cell_type": "code",
   "execution_count": 43,
   "metadata": {},
   "outputs": [],
   "source": [
    "attendance_valuation_elo_df['cluster'] = kmeans.labels_"
   ]
  },
  {
   "cell_type": "code",
   "execution_count": 44,
   "metadata": {
    "collapsed": true
   },
   "outputs": [],
   "source": [
    "attendance_valuation_elo_df.to_csv(\"../data/nba_2017_att_val_elo_with_cluster.csv\")"
   ]
  },
  {
   "cell_type": "code",
   "execution_count": 45,
   "metadata": {},
   "outputs": [
    {
     "data": {
      "text/plain": [
       "<seaborn.axisgrid.FacetGrid at 0x11a6d2ac8>"
      ]
     },
     "execution_count": 45,
     "metadata": {},
     "output_type": "execute_result"
    },
    {
     "data": {
      "image/png": "[encoded data removed]",
      "text/plain": [
       "<matplotlib.figure.Figure at 0x11a6d2c18>"
      ]
     },
     "metadata": {},
     "output_type": "display_data"
    }
   ],
   "source": [
    "ax = sns.lmplot(x=\"ELO\", y=\"AVG_MILLIONS\", data=attendance_valuation_elo_df,hue=\"cluster\", size=12, fit_reg=False)\n",
    "ax.set(xlabel='ELO Score', ylabel='Average Attendence Per Game', title=\"NBA Team AVG Attendance vs ELO Ranking Clustered on ELO, AVG, VALUE_MILLIONS:  2016-2017 Season\")"
   ]
  },
  {
   "cell_type": "code",
   "execution_count": 46,
   "metadata": {},
   "outputs": [
    {
     "data": {
      "text/plain": [
       "{'algorithm': 'auto',\n",
       " 'cluster_centers_': array([[  1.79664000e-02,   1.52340000e+03,   1.82000000e+03],\n",
       "        [  1.74615238e-02,   1.49990476e+03,   9.60000000e+02],\n",
       "        [  1.99997500e-02,   1.50750000e+03,   2.85000000e+03]]),\n",
       " 'copy_x': True,\n",
       " 'inertia_': 1634038.009595013,\n",
       " 'init': 'k-means++',\n",
       " 'labels_': array([2, 0, 1, 1, 1, 0, 1, 2, 1, 2, 0, 2, 1, 1, 1, 1, 1, 0, 1, 1, 1, 1, 1,\n",
       "        1, 0, 1, 1, 1, 1, 1], dtype=int32),\n",
       " 'max_iter': 300,\n",
       " 'n_clusters': 3,\n",
       " 'n_init': 10,\n",
       " 'n_iter_': 1,\n",
       " 'n_jobs': 1,\n",
       " 'precompute_distances': 'auto',\n",
       " 'random_state': None,\n",
       " 'tol': 0.0001,\n",
       " 'verbose': 0}"
      ]
     },
     "execution_count": 46,
     "metadata": {},
     "output_type": "execute_result"
    }
   ],
   "source": [
    "kmeans.__dict__"
   ]
  },
  {
   "cell_type": "code",
   "execution_count": 47,
   "metadata": {},
   "outputs": [
    {
     "data": {
      "text/plain": [
       "array([[  1.79664000e-02,   1.52340000e+03,   1.82000000e+03],\n",
       "       [  1.74615238e-02,   1.49990476e+03,   9.60000000e+02],\n",
       "       [  1.99997500e-02,   1.50750000e+03,   2.85000000e+03]])"
      ]
     },
     "execution_count": 47,
     "metadata": {},
     "output_type": "execute_result"
    }
   ],
   "source": [
    "kmeans.cluster_centers_"
   ]
  },
  {
   "cell_type": "code",
   "execution_count": 48,
   "metadata": {
    "collapsed": true
   },
   "outputs": [],
   "source": [
    "cluster_1 = attendance_valuation_elo_df[\"cluster\"] == 1"
   ]
  },
  {
   "cell_type": "code",
   "execution_count": 60,
   "metadata": {},
   "outputs": [
    {
     "data": {
      "text/html": [
       "<div>\n",
       "<style>\n",
       "    .dataframe thead tr:only-child th {\n",
       "        text-align: right;\n",
       "    }\n",
       "\n",
       "    .dataframe thead th {\n",
       "        text-align: left;\n",
       "    }\n",
       "\n",
       "    .dataframe tbody tr th {\n",
       "        vertical-align: top;\n",
       "    }\n",
       "</style>\n",
       "<table border=\"1\" class=\"dataframe\">\n",
       "  <thead>\n",
       "    <tr style=\"text-align: right;\">\n",
       "      <th></th>\n",
       "      <th>TEAM</th>\n",
       "      <th>GMS</th>\n",
       "      <th>PCT</th>\n",
       "      <th>TOTAL_MILLIONS</th>\n",
       "      <th>AVG_MILLIONS</th>\n",
       "      <th>VALUE_MILLIONS</th>\n",
       "      <th>ELO</th>\n",
       "      <th>CONF</th>\n",
       "      <th>cluster</th>\n",
       "    </tr>\n",
       "  </thead>\n",
       "  <tbody>\n",
       "    <tr>\n",
       "      <th>2</th>\n",
       "      <td>Sacramento Kings</td>\n",
       "      <td>41</td>\n",
       "      <td>101</td>\n",
       "      <td>0.721928</td>\n",
       "      <td>0.017608</td>\n",
       "      <td>1075.0</td>\n",
       "      <td>1393</td>\n",
       "      <td>West</td>\n",
       "      <td>1</td>\n",
       "    </tr>\n",
       "    <tr>\n",
       "      <th>3</th>\n",
       "      <td>Miami Heat</td>\n",
       "      <td>41</td>\n",
       "      <td>100</td>\n",
       "      <td>0.805400</td>\n",
       "      <td>0.019643</td>\n",
       "      <td>1350.0</td>\n",
       "      <td>1569</td>\n",
       "      <td>East</td>\n",
       "      <td>1</td>\n",
       "    </tr>\n",
       "    <tr>\n",
       "      <th>4</th>\n",
       "      <td>Toronto Raptors</td>\n",
       "      <td>41</td>\n",
       "      <td>100</td>\n",
       "      <td>0.813050</td>\n",
       "      <td>0.019830</td>\n",
       "      <td>1125.0</td>\n",
       "      <td>1600</td>\n",
       "      <td>East</td>\n",
       "      <td>1</td>\n",
       "    </tr>\n",
       "    <tr>\n",
       "      <th>6</th>\n",
       "      <td>Cleveland Cavaliers</td>\n",
       "      <td>41</td>\n",
       "      <td>100</td>\n",
       "      <td>0.843042</td>\n",
       "      <td>0.020562</td>\n",
       "      <td>1200.0</td>\n",
       "      <td>1545</td>\n",
       "      <td>East</td>\n",
       "      <td>1</td>\n",
       "    </tr>\n",
       "    <tr>\n",
       "      <th>8</th>\n",
       "      <td>Oklahoma City Thunder</td>\n",
       "      <td>41</td>\n",
       "      <td>100</td>\n",
       "      <td>0.746323</td>\n",
       "      <td>0.018203</td>\n",
       "      <td>1025.0</td>\n",
       "      <td>1543</td>\n",
       "      <td>West</td>\n",
       "      <td>1</td>\n",
       "    </tr>\n",
       "    <tr>\n",
       "      <th>12</th>\n",
       "      <td>Portland Trail Blazers</td>\n",
       "      <td>41</td>\n",
       "      <td>99</td>\n",
       "      <td>0.792029</td>\n",
       "      <td>0.019317</td>\n",
       "      <td>1050.0</td>\n",
       "      <td>1563</td>\n",
       "      <td>West</td>\n",
       "      <td>1</td>\n",
       "    </tr>\n",
       "    <tr>\n",
       "      <th>13</th>\n",
       "      <td>San Antonio Spurs</td>\n",
       "      <td>41</td>\n",
       "      <td>99</td>\n",
       "      <td>0.755347</td>\n",
       "      <td>0.018423</td>\n",
       "      <td>1175.0</td>\n",
       "      <td>1661</td>\n",
       "      <td>West</td>\n",
       "      <td>1</td>\n",
       "    </tr>\n",
       "    <tr>\n",
       "      <th>14</th>\n",
       "      <td>Utah Jazz</td>\n",
       "      <td>41</td>\n",
       "      <td>99</td>\n",
       "      <td>0.806605</td>\n",
       "      <td>0.019673</td>\n",
       "      <td>910.0</td>\n",
       "      <td>1617</td>\n",
       "      <td>West</td>\n",
       "      <td>1</td>\n",
       "    </tr>\n",
       "    <tr>\n",
       "      <th>15</th>\n",
       "      <td>Orlando Magic</td>\n",
       "      <td>41</td>\n",
       "      <td>94</td>\n",
       "      <td>0.727875</td>\n",
       "      <td>0.017753</td>\n",
       "      <td>920.0</td>\n",
       "      <td>1352</td>\n",
       "      <td>East</td>\n",
       "      <td>1</td>\n",
       "    </tr>\n",
       "    <tr>\n",
       "      <th>16</th>\n",
       "      <td>New Orleans Pelicans</td>\n",
       "      <td>41</td>\n",
       "      <td>94</td>\n",
       "      <td>0.663099</td>\n",
       "      <td>0.016173</td>\n",
       "      <td>750.0</td>\n",
       "      <td>1482</td>\n",
       "      <td>West</td>\n",
       "      <td>1</td>\n",
       "    </tr>\n",
       "    <tr>\n",
       "      <th>18</th>\n",
       "      <td>Phoenix Suns</td>\n",
       "      <td>41</td>\n",
       "      <td>94</td>\n",
       "      <td>0.708639</td>\n",
       "      <td>0.017283</td>\n",
       "      <td>1100.0</td>\n",
       "      <td>1340</td>\n",
       "      <td>West</td>\n",
       "      <td>1</td>\n",
       "    </tr>\n",
       "    <tr>\n",
       "      <th>19</th>\n",
       "      <td>Indiana Pacers</td>\n",
       "      <td>41</td>\n",
       "      <td>92</td>\n",
       "      <td>0.684578</td>\n",
       "      <td>0.016697</td>\n",
       "      <td>880.0</td>\n",
       "      <td>1526</td>\n",
       "      <td>East</td>\n",
       "      <td>1</td>\n",
       "    </tr>\n",
       "    <tr>\n",
       "      <th>20</th>\n",
       "      <td>Memphis Grizzlies</td>\n",
       "      <td>41</td>\n",
       "      <td>91</td>\n",
       "      <td>0.677314</td>\n",
       "      <td>0.016519</td>\n",
       "      <td>790.0</td>\n",
       "      <td>1482</td>\n",
       "      <td>West</td>\n",
       "      <td>1</td>\n",
       "    </tr>\n",
       "    <tr>\n",
       "      <th>21</th>\n",
       "      <td>Charlotte Hornets</td>\n",
       "      <td>41</td>\n",
       "      <td>91</td>\n",
       "      <td>0.710643</td>\n",
       "      <td>0.017332</td>\n",
       "      <td>780.0</td>\n",
       "      <td>1463</td>\n",
       "      <td>East</td>\n",
       "      <td>1</td>\n",
       "    </tr>\n",
       "    <tr>\n",
       "      <th>22</th>\n",
       "      <td>Philadelphia 76ers</td>\n",
       "      <td>41</td>\n",
       "      <td>85</td>\n",
       "      <td>0.710557</td>\n",
       "      <td>0.017330</td>\n",
       "      <td>800.0</td>\n",
       "      <td>1338</td>\n",
       "      <td>East</td>\n",
       "      <td>1</td>\n",
       "    </tr>\n",
       "    <tr>\n",
       "      <th>23</th>\n",
       "      <td>Atlanta Hawks</td>\n",
       "      <td>41</td>\n",
       "      <td>85</td>\n",
       "      <td>0.654306</td>\n",
       "      <td>0.015958</td>\n",
       "      <td>885.0</td>\n",
       "      <td>1479</td>\n",
       "      <td>East</td>\n",
       "      <td>1</td>\n",
       "    </tr>\n",
       "    <tr>\n",
       "      <th>25</th>\n",
       "      <td>Milwaukee Bucks</td>\n",
       "      <td>41</td>\n",
       "      <td>85</td>\n",
       "      <td>0.648952</td>\n",
       "      <td>0.015828</td>\n",
       "      <td>785.0</td>\n",
       "      <td>1502</td>\n",
       "      <td>East</td>\n",
       "      <td>1</td>\n",
       "    </tr>\n",
       "    <tr>\n",
       "      <th>26</th>\n",
       "      <td>Washington Wizards</td>\n",
       "      <td>41</td>\n",
       "      <td>84</td>\n",
       "      <td>0.697107</td>\n",
       "      <td>0.017002</td>\n",
       "      <td>1000.0</td>\n",
       "      <td>1587</td>\n",
       "      <td>East</td>\n",
       "      <td>1</td>\n",
       "    </tr>\n",
       "    <tr>\n",
       "      <th>27</th>\n",
       "      <td>Denver Nuggets</td>\n",
       "      <td>41</td>\n",
       "      <td>77</td>\n",
       "      <td>0.605585</td>\n",
       "      <td>0.014770</td>\n",
       "      <td>890.0</td>\n",
       "      <td>1552</td>\n",
       "      <td>West</td>\n",
       "      <td>1</td>\n",
       "    </tr>\n",
       "    <tr>\n",
       "      <th>28</th>\n",
       "      <td>Minnesota Timberwolves</td>\n",
       "      <td>41</td>\n",
       "      <td>77</td>\n",
       "      <td>0.607203</td>\n",
       "      <td>0.014809</td>\n",
       "      <td>770.0</td>\n",
       "      <td>1463</td>\n",
       "      <td>West</td>\n",
       "      <td>1</td>\n",
       "    </tr>\n",
       "    <tr>\n",
       "      <th>29</th>\n",
       "      <td>Detroit Pistons</td>\n",
       "      <td>41</td>\n",
       "      <td>72</td>\n",
       "      <td>0.655141</td>\n",
       "      <td>0.015979</td>\n",
       "      <td>900.0</td>\n",
       "      <td>1441</td>\n",
       "      <td>East</td>\n",
       "      <td>1</td>\n",
       "    </tr>\n",
       "  </tbody>\n",
       "</table>\n",
       "</div>"
      ],
      "text/plain": [
       "                      TEAM  GMS  PCT  TOTAL_MILLIONS  AVG_MILLIONS  \\\n",
       "2         Sacramento Kings   41  101        0.721928      0.017608   \n",
       "3               Miami Heat   41  100        0.805400      0.019643   \n",
       "4          Toronto Raptors   41  100        0.813050      0.019830   \n",
       "6      Cleveland Cavaliers   41  100        0.843042      0.020562   \n",
       "8    Oklahoma City Thunder   41  100        0.746323      0.018203   \n",
       "12  Portland Trail Blazers   41   99        0.792029      0.019317   \n",
       "13       San Antonio Spurs   41   99        0.755347      0.018423   \n",
       "14               Utah Jazz   41   99        0.806605      0.019673   \n",
       "15           Orlando Magic   41   94        0.727875      0.017753   \n",
       "16    New Orleans Pelicans   41   94        0.663099      0.016173   \n",
       "18            Phoenix Suns   41   94        0.708639      0.017283   \n",
       "19          Indiana Pacers   41   92        0.684578      0.016697   \n",
       "20       Memphis Grizzlies   41   91        0.677314      0.016519   \n",
       "21       Charlotte Hornets   41   91        0.710643      0.017332   \n",
       "22      Philadelphia 76ers   41   85        0.710557      0.017330   \n",
       "23           Atlanta Hawks   41   85        0.654306      0.015958   \n",
       "25         Milwaukee Bucks   41   85        0.648952      0.015828   \n",
       "26      Washington Wizards   41   84        0.697107      0.017002   \n",
       "27          Denver Nuggets   41   77        0.605585      0.014770   \n",
       "28  Minnesota Timberwolves   41   77        0.607203      0.014809   \n",
       "29         Detroit Pistons   41   72        0.655141      0.015979   \n",
       "\n",
       "    VALUE_MILLIONS   ELO  CONF  cluster  \n",
       "2           1075.0  1393  West        1  \n",
       "3           1350.0  1569  East        1  \n",
       "4           1125.0  1600  East        1  \n",
       "6           1200.0  1545  East        1  \n",
       "8           1025.0  1543  West        1  \n",
       "12          1050.0  1563  West        1  \n",
       "13          1175.0  1661  West        1  \n",
       "14           910.0  1617  West        1  \n",
       "15           920.0  1352  East        1  \n",
       "16           750.0  1482  West        1  \n",
       "18          1100.0  1340  West        1  \n",
       "19           880.0  1526  East        1  \n",
       "20           790.0  1482  West        1  \n",
       "21           780.0  1463  East        1  \n",
       "22           800.0  1338  East        1  \n",
       "23           885.0  1479  East        1  \n",
       "25           785.0  1502  East        1  \n",
       "26          1000.0  1587  East        1  \n",
       "27           890.0  1552  West        1  \n",
       "28           770.0  1463  West        1  \n",
       "29           900.0  1441  East        1  "
      ]
     },
     "execution_count": 60,
     "metadata": {},
     "output_type": "execute_result"
    }
   ],
   "source": [
    "attendance_valuation_elo_df[cluster_1]"
   ]
  },
  {
   "cell_type": "code",
   "execution_count": null,
   "metadata": {
    "collapsed": true
   },
   "outputs": [],
   "source": []
  },
  {
   "cell_type": "code",
   "execution_count": null,
   "metadata": {
    "collapsed": true
   },
   "outputs": [],
   "source": []
  },
  {
   "cell_type": "code",
   "execution_count": null,
   "metadata": {
    "collapsed": true
   },
   "outputs": [],
   "source": []
  },
  {
   "cell_type": "code",
   "execution_count": null,
   "metadata": {
    "collapsed": true
   },
   "outputs": [],
   "source": []
  }
 ],
 "metadata": {
  "kernelspec": {
   "display_name": "Python 3",
   "language": "python",
   "name": "python3"
  },
  "language_info": {
   "codemirror_mode": {
    "name": "ipython",
    "version": 3
   },
   "file_extension": ".py",
   "mimetype": "text/x-python",
   "name": "python",
   "nbconvert_exporter": "python",
   "pygments_lexer": "ipython3",
   "version": "3.6.3"
  }
 },
 "nbformat": 4,
 "nbformat_minor": 2
}
